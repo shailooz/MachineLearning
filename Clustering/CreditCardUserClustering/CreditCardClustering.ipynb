{
 "cells": [
  {
   "cell_type": "code",
   "execution_count": 2,
   "metadata": {},
   "outputs": [
    {
     "name": "stdout",
     "output_type": "stream",
     "text": [
      "CUST_ID                               0\n",
      "BALANCE                               0\n",
      "BALANCE_FREQUENCY                     0\n",
      "PURCHASES                             0\n",
      "ONEOFF_PURCHASES                      0\n",
      "INSTALLMENTS_PURCHASES                0\n",
      "CASH_ADVANCE                          0\n",
      "PURCHASES_FREQUENCY                   0\n",
      "ONEOFF_PURCHASES_FREQUENCY            0\n",
      "PURCHASES_INSTALLMENTS_FREQUENCY      0\n",
      "CASH_ADVANCE_FREQUENCY                0\n",
      "CASH_ADVANCE_TRX                      0\n",
      "PURCHASES_TRX                         0\n",
      "CREDIT_LIMIT                          1\n",
      "PAYMENTS                              0\n",
      "MINIMUM_PAYMENTS                    313\n",
      "PRC_FULL_PAYMENT                      0\n",
      "TENURE                                0\n",
      "dtype: int64\n"
     ]
    }
   ],
   "source": [
    "# importing the libraries\n",
    "import numpy as np\n",
    "import pandas as pd\n",
    "%matplotlib inline\n",
    "import matplotlib.pyplot as plt\n",
    "\n",
    "dataset= pd.read_csv('./CC GENERAL.csv')\n",
    "      \n",
    "# checking the presence of null values\n",
    "print(dataset.isnull().sum())\n",
    " #CREDIT_LIMIT                          1\n",
    " #MINIMUM_PAYMENTS                    313\n",
    " "
   ]
  },
  {
   "cell_type": "code",
   "execution_count": 3,
   "metadata": {},
   "outputs": [
    {
     "name": "stdout",
     "output_type": "stream",
     "text": [
      "CUST_ID                             0\n",
      "BALANCE                             0\n",
      "BALANCE_FREQUENCY                   0\n",
      "PURCHASES                           0\n",
      "ONEOFF_PURCHASES                    0\n",
      "INSTALLMENTS_PURCHASES              0\n",
      "CASH_ADVANCE                        0\n",
      "PURCHASES_FREQUENCY                 0\n",
      "ONEOFF_PURCHASES_FREQUENCY          0\n",
      "PURCHASES_INSTALLMENTS_FREQUENCY    0\n",
      "CASH_ADVANCE_FREQUENCY              0\n",
      "CASH_ADVANCE_TRX                    0\n",
      "PURCHASES_TRX                       0\n",
      "CREDIT_LIMIT                        0\n",
      "PAYMENTS                            0\n",
      "MINIMUM_PAYMENTS                    0\n",
      "PRC_FULL_PAYMENT                    0\n",
      "TENURE                              0\n",
      "dtype: int64\n",
      "            BALANCE  BALANCE_FREQUENCY     PURCHASES  ONEOFF_PURCHASES  \\\n",
      "count   8950.000000        8950.000000   8950.000000       8950.000000   \n",
      "mean    1564.474828           0.877271   1003.204834        592.437371   \n",
      "std     2081.531879           0.236904   2136.634782       1659.887917   \n",
      "min        0.000000           0.000000      0.000000          0.000000   \n",
      "25%      128.281915           0.888889     39.635000          0.000000   \n",
      "50%      873.385231           1.000000    361.280000         38.000000   \n",
      "75%     2054.140036           1.000000   1110.130000        577.405000   \n",
      "max    19043.138560           1.000000  49039.570000      40761.250000   \n",
      "\n",
      "       INSTALLMENTS_PURCHASES  CASH_ADVANCE  PURCHASES_FREQUENCY  \\\n",
      "count             8950.000000   8950.000000          8950.000000   \n",
      "mean               411.067645    978.871112             0.490351   \n",
      "std                904.338115   2097.163877             0.401371   \n",
      "min                  0.000000      0.000000             0.000000   \n",
      "25%                  0.000000      0.000000             0.083333   \n",
      "50%                 89.000000      0.000000             0.500000   \n",
      "75%                468.637500   1113.821139             0.916667   \n",
      "max              22500.000000  47137.211760             1.000000   \n",
      "\n",
      "       ONEOFF_PURCHASES_FREQUENCY  PURCHASES_INSTALLMENTS_FREQUENCY  \\\n",
      "count                 8950.000000                       8950.000000   \n",
      "mean                     0.202458                          0.364437   \n",
      "std                      0.298336                          0.397448   \n",
      "min                      0.000000                          0.000000   \n",
      "25%                      0.000000                          0.000000   \n",
      "50%                      0.083333                          0.166667   \n",
      "75%                      0.300000                          0.750000   \n",
      "max                      1.000000                          1.000000   \n",
      "\n",
      "       CASH_ADVANCE_FREQUENCY  CASH_ADVANCE_TRX  PURCHASES_TRX  CREDIT_LIMIT  \\\n",
      "count             8950.000000       8950.000000    8950.000000   8950.000000   \n",
      "mean                 0.135144          3.248827      14.709832   4494.449450   \n",
      "std                  0.200121          6.824647      24.857649   3638.612411   \n",
      "min                  0.000000          0.000000       0.000000     50.000000   \n",
      "25%                  0.000000          0.000000       1.000000   1600.000000   \n",
      "50%                  0.000000          0.000000       7.000000   3000.000000   \n",
      "75%                  0.222222          4.000000      17.000000   6500.000000   \n",
      "max                  1.500000        123.000000     358.000000  30000.000000   \n",
      "\n",
      "           PAYMENTS  MINIMUM_PAYMENTS  PRC_FULL_PAYMENT       TENURE  \n",
      "count   8950.000000       8950.000000       8950.000000  8950.000000  \n",
      "mean    1733.143852        864.206542          0.153715    11.517318  \n",
      "std     2895.063757       2330.588021          0.292499     1.338331  \n",
      "min        0.000000          0.019163          0.000000     6.000000  \n",
      "25%      383.276166        170.857654          0.000000    12.000000  \n",
      "50%      856.901546        335.628312          0.000000    12.000000  \n",
      "75%     1901.134317        864.206542          0.142857    12.000000  \n",
      "max    50721.483360      76406.207520          1.000000    12.000000  \n"
     ]
    }
   ],
   "source": [
    "dataset['CREDIT_LIMIT'].fillna(dataset.CREDIT_LIMIT.mean(), inplace = True)\n",
    "dataset['MINIMUM_PAYMENTS'].fillna(dataset.MINIMUM_PAYMENTS.mean(), inplace = True) # using mean\n",
    "\n",
    "print(dataset.isnull().sum())\n",
    "\n",
    "print(dataset.describe())"
   ]
  },
  {
   "cell_type": "code",
   "execution_count": 4,
   "metadata": {},
   "outputs": [
    {
     "name": "stdout",
     "output_type": "stream",
     "text": [
      "[[-0.73198937 -0.24943448 -0.42489974 ... -0.31096755 -0.52555097\n",
      "   0.36067954]\n",
      " [ 0.78696085  0.13432467 -0.46955188 ...  0.08931021  0.2342269\n",
      "   0.36067954]\n",
      " [ 0.44713513  0.51808382 -0.10766823 ... -0.10166318 -0.52555097\n",
      "   0.36067954]\n",
      " ...\n",
      " [-0.7403981  -0.18547673 -0.40196519 ... -0.33546549  0.32919999\n",
      "  -4.12276757]\n",
      " [-0.74517423 -0.18547673 -0.46955188 ... -0.34690648  0.32919999\n",
      "  -4.12276757]\n",
      " [-0.57257511 -0.88903307  0.04214581 ... -0.33294642 -0.52555097\n",
      "  -4.12276757]]\n"
     ]
    }
   ],
   "source": [
    "dataset.drop(['CUST_ID'], axis= 1, inplace = True)\n",
    "\n",
    "# No Categorical Values found\n",
    "X = dataset.iloc[:,:].values\n",
    "\n",
    "# Using standard scaler\n",
    "from sklearn.preprocessing import StandardScaler\n",
    "standardscaler= StandardScaler()\n",
    "X = standardscaler.fit_transform(X)\n",
    "print(X)\n"
   ]
  },
  {
   "cell_type": "code",
   "execution_count": 5,
   "metadata": {},
   "outputs": [
    {
     "data": {
      "text/plain": [
       "[<matplotlib.lines.Line2D at 0x1ec68615e48>]"
      ]
     },
     "execution_count": 5,
     "metadata": {},
     "output_type": "execute_result"
    },
    {
     "data": {
      "image/png": "[encoded data removed]",
      "text/plain": [
       "<Figure size 432x288 with 1 Axes>"
      ]
     },
     "metadata": {
      "needs_background": "light"
     },
     "output_type": "display_data"
    }
   ],
   "source": [
    "\n",
    "\"\"\"K MEANS CLUSTERING \"\"\"\n",
    "#Inertia, or the within-cluster sum of squares criterion, can be recognized as a measure of how internally coherent clusters are\n",
    "from sklearn.cluster import KMeans\n",
    "wss= []\n",
    "for i in range(1, 11):\n",
    "    kmeans= KMeans(n_clusters = i, init = 'k-means++', random_state = 0)\n",
    "    kmeans.fit(X)\n",
    "    wss.append(kmeans.inertia_)\n",
    "plt.plot(range(1,11), wss) # seelecting 4"
   ]
  },
  {
   "cell_type": "code",
   "execution_count": 6,
   "metadata": {},
   "outputs": [
    {
     "name": "stdout",
     "output_type": "stream",
     "text": [
      "[152150.00000000003, 127784.87449145077, 111986.3661629119, 99073.93826774822, 91502.1394097151, 84850.98165827329, 79532.40237691787, 75568.75961699065, 69954.86482342934, 67546.56302862815]\n",
      "95995.08898360653\n",
      "[56154.9110163935, 31789.785507844237, 15991.277179305369, 3078.8492841416883, 4492.949573891427, 11144.107325333243, 16462.686606688658, 20426.329366615886, 26040.224160177197, 28448.52595497838]\n"
     ]
    }
   ],
   "source": [
    "wss_mean=np.array(wss).mean()\n",
    "print(wss)\n",
    "print(wss_mean)\n",
    "print([abs(wss_mean-x) for x in wss])\n",
    "k=np.argmin([abs(wss_mean-x) for x in wss])+1"
   ]
  },
  {
   "cell_type": "code",
   "execution_count": 17,
   "metadata": {},
   "outputs": [
    {
     "name": "stdout",
     "output_type": "stream",
     "text": [
      "[3 1 0 ... 0 3 3]\n"
     ]
    },
    {
     "data": {
      "text/plain": [
       "[<matplotlib.lines.Line2D at 0x18e24564710>]"
      ]
     },
     "execution_count": 17,
     "metadata": {},
     "output_type": "execute_result"
    },
    {
     "data": {
      "image/png": "[encoded data removed]",
      "text/plain": [
       "<Figure size 1152x288 with 1 Axes>"
      ]
     },
     "metadata": {
      "needs_background": "light"
     },
     "output_type": "display_data"
    }
   ],
   "source": [
    "kmeans = KMeans(n_clusters = k, init= 'k-means++', random_state = 0)\n",
    "kmeans.fit(X)\n",
    "\n",
    "Y_pred_K= kmeans.predict(X) \n",
    "print(Y_pred_K)\n",
    "\n",
    "#showing the clusters of first 100 persons\n",
    "plt.figure(figsize=(16,4))\n",
    "plt.plot(range(1,100+1),Y_pred_K[:100],'ro')"
   ]
  },
  {
   "cell_type": "code",
   "execution_count": null,
   "metadata": {
    "collapsed": true
   },
   "outputs": [],
   "source": []
  }
 ],
 "metadata": {
  "kernelspec": {
   "display_name": "Python 3",
   "language": "python",
   "name": "python3"
  },
  "language_info": {
   "codemirror_mode": {
    "name": "ipython",
    "version": 3
   },
   "file_extension": ".py",
   "mimetype": "text/x-python",
   "name": "python",
   "nbconvert_exporter": "python",
   "pygments_lexer": "ipython3",
   "version": "3.7.3"
  }
 },
 "nbformat": 4,
 "nbformat_minor": 2
}
