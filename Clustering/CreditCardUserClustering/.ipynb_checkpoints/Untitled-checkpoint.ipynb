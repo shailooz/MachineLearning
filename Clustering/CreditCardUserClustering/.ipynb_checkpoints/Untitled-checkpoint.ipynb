{
 "cells": [
  {
   "cell_type": "code",
   "execution_count": 7,
   "metadata": {},
   "outputs": [
    {
     "name": "stdout",
     "output_type": "stream",
     "text": [
      "CUST_ID                               0\n",
      "BALANCE                               0\n",
      "BALANCE_FREQUENCY                     0\n",
      "PURCHASES                             0\n",
      "ONEOFF_PURCHASES                      0\n",
      "INSTALLMENTS_PURCHASES                0\n",
      "CASH_ADVANCE                          0\n",
      "PURCHASES_FREQUENCY                   0\n",
      "ONEOFF_PURCHASES_FREQUENCY            0\n",
      "PURCHASES_INSTALLMENTS_FREQUENCY      0\n",
      "CASH_ADVANCE_FREQUENCY                0\n",
      "CASH_ADVANCE_TRX                      0\n",
      "PURCHASES_TRX                         0\n",
      "CREDIT_LIMIT                          1\n",
      "PAYMENTS                              0\n",
      "MINIMUM_PAYMENTS                    313\n",
      "PRC_FULL_PAYMENT                      0\n",
      "TENURE                                0\n",
      "dtype: int64\n",
      "CUST_ID                             0\n",
      "BALANCE                             0\n",
      "BALANCE_FREQUENCY                   0\n",
      "PURCHASES                           0\n",
      "ONEOFF_PURCHASES                    0\n",
      "INSTALLMENTS_PURCHASES              0\n",
      "CASH_ADVANCE                        0\n",
      "PURCHASES_FREQUENCY                 0\n",
      "ONEOFF_PURCHASES_FREQUENCY          0\n",
      "PURCHASES_INSTALLMENTS_FREQUENCY    0\n",
      "CASH_ADVANCE_FREQUENCY              0\n",
      "CASH_ADVANCE_TRX                    0\n",
      "PURCHASES_TRX                       0\n",
      "CREDIT_LIMIT                        0\n",
      "PAYMENTS                            0\n",
      "MINIMUM_PAYMENTS                    0\n",
      "PRC_FULL_PAYMENT                    0\n",
      "TENURE                              0\n",
      "dtype: int64\n"
     ]
    }
   ],
   "source": [
    "# importing the libraries\n",
    "import numpy as np\n",
    "import pandas as pd\n",
    "%matplotlib inline\n",
    "import matplotlib.pyplot as plt\n",
    "\n",
    "dataset= pd.read_csv('./CC GENERAL.csv')\n",
    "# checking the presence of null values\n",
    "print(dataset.isnull().sum())\n",
    " #CREDIT_LIMIT                          1\n",
    " #MINIMUM_PAYMENTS                    313\n",
    " \n",
    "dataset['CREDIT_LIMIT'].fillna(dataset.CREDIT_LIMIT.mean(), inplace = True)\n",
    " \n",
    "dataset['MINIMUM_PAYMENTS'].fillna(dataset.MINIMUM_PAYMENTS.mean(), inplace = True) # using mean\n",
    "\n",
    "print(dataset.isnull().sum())\n",
    "# We see no null values"
   ]
  },
  {
   "cell_type": "code",
   "execution_count": 8,
   "metadata": {},
   "outputs": [
    {
     "data": {
      "text/plain": [
       "[<matplotlib.lines.Line2D at 0x20e040d4080>]"
      ]
     },
     "execution_count": 8,
     "metadata": {},
     "output_type": "execute_result"
    },
    {
     "data": {
      "image/png": "[encoded data removed]",
      "text/plain": [
       "<Figure size 432x288 with 1 Axes>"
      ]
     },
     "metadata": {
      "needs_background": "light"
     },
     "output_type": "display_data"
    }
   ],
   "source": [
    "dataset.drop(['CUST_ID'], axis= 1, inplace = True)\n",
    "\n",
    "# No Categorical Values found\n",
    "X = dataset.iloc[:,:].values\n",
    "\n",
    "# Using standard scaler\n",
    "from sklearn.preprocessing import StandardScaler\n",
    "standardscaler= StandardScaler()\n",
    "X = standardscaler.fit_transform(X)\n",
    "\n",
    "\"\"\"K MEANS CLUSTERING \"\"\"\n",
    "#Inertia, or the within-cluster sum of squares criterion, can be recognized as a measure of how internally coherent clusters are\n",
    "from sklearn.cluster import KMeans\n",
    "wss= []\n",
    "for i in range(1, 11):\n",
    "    kmeans= KMeans(n_clusters = i, init = 'k-means++', random_state = 0)\n",
    "    kmeans.fit(X)\n",
    "    wss.append(kmeans.inertia_)\n",
    "plt.plot(range(1,11), wss) # seelecting 4\n"
   ]
  },
  {
   "cell_type": "code",
   "execution_count": 36,
   "metadata": {},
   "outputs": [
    {
     "data": {
      "text/plain": [
       "array([1, 2, 3, 4, 5, 6, 7, 8, 9])"
      ]
     },
     "execution_count": 36,
     "metadata": {},
     "output_type": "execute_result"
    }
   ],
   "source": [
    "wss_mean=np.array(wss).mean()\n",
    "k=np.argmin([abs(wss_mean-x) for x in wss])+1"
   ]
  },
  {
   "cell_type": "code",
   "execution_count": 47,
   "metadata": {},
   "outputs": [
    {
     "name": "stdout",
     "output_type": "stream",
     "text": [
      "[3 1 0 ... 0 3 3]\n",
      "[[-3.21688457e-01  2.42573999e-01  1.09043960e-01  9.26320814e-04\n",
      "   2.55903798e-01 -3.66372614e-01  9.83720816e-01  3.17152671e-01\n",
      "   8.74137767e-01 -4.62598760e-01 -3.60303396e-01  2.96985169e-01\n",
      "  -7.72980064e-02 -1.38501975e-01 -9.18443871e-02  3.95041454e-01\n",
      "   5.77439285e-02]\n",
      " [ 1.45957775e+00  3.84753065e-01 -2.34638427e-01 -1.63914013e-01\n",
      "  -2.53746975e-01  1.68897201e+00 -5.04847568e-01 -2.12939102e-01\n",
      "  -4.50201244e-01  1.74594805e+00  1.61714316e+00 -2.83579688e-01\n",
      "   8.38967661e-01  6.03820830e-01  4.90909814e-01 -4.06367280e-01\n",
      "  -9.71460234e-02]\n",
      " [ 9.54484507e-01  4.62693629e-01  3.12584465e+00  2.71325131e+00\n",
      "   2.40646962e+00 -1.55090594e-01  1.13633760e+00  1.79865349e+00\n",
      "   1.06591778e+00 -3.19095705e-01 -1.70458235e-01  3.00325068e+00\n",
      "   1.42988161e+00  1.91909626e+00  4.77420629e-01  4.54702830e-01\n",
      "   3.24139633e-01]\n",
      " [-2.65551629e-01 -3.68944296e-01 -3.43190301e-01 -2.30500433e-01\n",
      "  -3.87798111e-01 -1.82691101e-01 -7.97822605e-01 -3.89436941e-01\n",
      "  -7.14245761e-01 -1.01500402e-01 -1.64607283e-01 -4.74987456e-01\n",
      "  -3.34417115e-01 -2.62060256e-01 -1.19249231e-01 -2.58865702e-01\n",
      "  -5.29718263e-02]]\n"
     ]
    },
    {
     "data": {
      "image/png": "[encoded data removed]",
      "text/plain": [
       "<Figure size 432x288 with 1 Axes>"
      ]
     },
     "metadata": {
      "needs_background": "light"
     },
     "output_type": "display_data"
    }
   ],
   "source": [
    "kmeans = KMeans(n_clusters = k, init= 'k-means++', random_state = 0)\n",
    "kmeans.fit(X)\n",
    "Y_pred_K= kmeans.predict(X) \n",
    "print(Y_pred_K)\n",
    "plt.plot(range(1,dataset.CREDIT_LIMIT.count()+1),Y_pred_K,'ro')"
   ]
  },
  {
   "cell_type": "code",
   "execution_count": null,
   "metadata": {},
   "outputs": [],
   "source": []
  }
 ],
 "metadata": {
  "kernelspec": {
   "display_name": "Python 3",
   "language": "python",
   "name": "python3"
  },
  "language_info": {
   "codemirror_mode": {
    "name": "ipython",
    "version": 3
   },
   "file_extension": ".py",
   "mimetype": "text/x-python",
   "name": "python",
   "nbconvert_exporter": "python",
   "pygments_lexer": "ipython3",
   "version": "3.6.6"
  }
 },
 "nbformat": 4,
 "nbformat_minor": 2
}
